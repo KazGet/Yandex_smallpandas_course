{
  "nbformat": 4,
  "nbformat_minor": 0,
  "metadata": {
    "colab": {
      "provenance": [],
      "authorship_tag": "ABX9TyM5coyfzT4pPKTod6WbtW1j",
      "include_colab_link": true
    },
    "kernelspec": {
      "name": "python3",
      "display_name": "Python 3"
    },
    "language_info": {
      "name": "python"
    }
  },
  "cells": [
    {
      "cell_type": "markdown",
      "metadata": {
        "id": "view-in-github",
        "colab_type": "text"
      },
      "source": [
        "<a href=\"https://colab.research.google.com/github/KazGet/Yandex_smallpandas_course/blob/main/easy_pandas.ipynb\" target=\"_parent\"><img src=\"https://colab.research.google.com/assets/colab-badge.svg\" alt=\"Open In Colab\"/></a>"
      ]
    },
    {
      "cell_type": "code",
      "source": [
        "import pandas as pd"
      ],
      "metadata": {
        "id": "QQWRkMOhUH1p"
      },
      "execution_count": 1,
      "outputs": []
    },
    {
      "cell_type": "code",
      "execution_count": null,
      "metadata": {
        "id": "btAWnRIhv_IZ",
        "cellView": "form"
      },
      "outputs": [],
      "source": [
        "# @title 1 Task\n",
        "\"\"\"\n",
        "1. Всемирный доклад ООН о счастье содержит данные об опросе людей в разных странах, в котором они оценивают свой общий уровень счастья, а также уровне удовлетворения\n",
        "в отдельных аспектах. В рамках сбора данных для репрезентативных национальных выборок респондентов просят ответить на ряд вопросов по шкале от нуля до десяти,\n",
        "где десять — это лучшая из возможных жизней, а ноль — худшая. Ответы отдельных респондентов усредняются для получения общего для страны показателя.\n",
        "Попробуем исследовать данные за 2019 год, чтобы лучше понять их структуру.\n",
        "\n",
        "а) Какое максимальное и минимальное значение индекса счастья в 2019 году?\n",
        "б) Какой средний уровень счастья среди всех стран?\n",
        "в) Каков медианный уровень счастья среди всех стран?\n",
        "г) Какова мода среди всех стран?\n",
        "д) Каково стандартное отклонение среди всех стран?\n",
        "е) Найдите десять самых счастливых стран.\n",
        "ж) Подсчитайте суммарный ВВП всех стран.\n",
        "з) Подсчитайте суммарный ВВП первых десяти стран.\n",
        "\"\"\"\n",
        "pd.set_option(\"display.max_columns\", 10)\n",
        "df = pd.read_csv(\"2019.csv\")\n",
        "print(df[\"Score\"].max())\n",
        "print(df[\"Score\"].min())\n",
        "print(df[\"Score\"].mean())\n",
        "print(df[\"Score\"].median())\n",
        "print(df['Score'].mode()[0])\n",
        "print(df['Score'].std())\n",
        "df_sort = df.sort_values(by=\"Score\", ascending=False)\n",
        "df_top10_country = df_sort.head(10)[\"Country or region\"].tolist()\n",
        "print(df_top10_country)\n",
        "print(df['GDP per capita'].sum())\n",
        "print(df['GDP per capita'][0:10].sum())"
      ]
    },
    {
      "cell_type": "code",
      "source": [
        "# @title 2 Task\n",
        "file = \"/content/books_prep.csv\"\n",
        "df = pd.read_csv(file)\n",
        "\n",
        "###Выведите имя самого популярного писателя в наборе данных\n",
        "print(df['Author'].describe()['top'])\n",
        "\n",
        "###Определите средние значения рейтинга для «дешёвых» и «дорогих» книг. Вам необходимо загрузить набор данных и напечатать средний рейтинг для «дорогих» книг.\n",
        "\n",
        "AA = df[df['Price (Above Average)'] == 'Yes']\n",
        "High = AA['User Rating'].mean()\n",
        "print(round(High, 2))\n",
        "\n",
        "###Проведите тест для определения равенства дисперсий. Выведите значение p-value.\n",
        "from scipy.stats import levene\n",
        "AA = df[df['Price (Above Average)'] == 'Yes']\n",
        "High = AA['User Rating']\n",
        "BB = df[df['Price (Above Average)'] == 'No']\n",
        "Low = BB['User Rating']\n",
        "print(levene(High, Low).pvalue.round(2))\n",
        "\n",
        "###Проведите тест для определения равенства средних. Выведите значение p-value\n",
        "from scipy.stats import ttest_ind, f_oneway\n",
        "print(ttest_ind(High, Low).pvalue.round(2))\n",
        "\n",
        "###Проведите тест ANOVA. Выведите значение p-value\n",
        "groups = df.groupby(\"User Rating (Round)\")[\"Reviews\"].apply(list)\n",
        "\n",
        "anova_result = f_oneway(*groups)\n",
        "print(round(anova_result.pvalue, 2))"
      ],
      "metadata": {
        "id": "QqoXOoMX0x6-",
        "cellView": "form"
      },
      "execution_count": null,
      "outputs": []
    },
    {
      "cell_type": "markdown",
      "source": [
        "Тест Левена (равенство дисперсий)\n",
        "p-value = 0.1\n",
        "\n",
        "Так как p > 0.05, нет оснований отвергать гипотезу о равенстве дисперсий.\n",
        "\n",
        "Значит, разброс оценок среди дорогих и дешёвых книг примерно одинаков.\n",
        "\n",
        "\n",
        "\n",
        "t-тест (равенство средних значений рейтинга)\n",
        "p-value = 0.0\n",
        "\n",
        "Это меньше 0.05, значит различия между средними рейтингами статистически значимы.\n",
        "\n",
        "Другими словами, стоимость книги влияет на её рейтинг.\n",
        "\n",
        "\n",
        "\n",
        "ANOVA (влияние рейтинга на число рецензий)\n",
        "p-value = 0.3\n",
        "\n",
        "Значение больше 0.05, гипотеза о равенстве средних числа рецензий в разных группах рейтинга не отвергается.\n",
        "\n",
        "Это означает, что число рецензий не зависит от округлённого рейтинга книги."
      ],
      "metadata": {
        "id": "fd4ebElgFRoi"
      }
    },
    {
      "cell_type": "code",
      "source": [
        "# @title 3 Task\n",
        "from statistics import mode\n",
        "df =pd.read_csv(\"/content/COVID-19 SSR.csv\")\n",
        "\"\"\"\n",
        "В датасете содержатся такие переменные как время на занятия, самостоятельное обучение, просмотр страниц в социальных сетях в день, а также\n",
        "соц-демографические характеристики учащихся (возраст, регион проживания) и другие.\n",
        "Вам необходимо вывести наиболее частый тип переменных встречаемый в датасете.\n",
        "\"\"\"\n",
        "z=[df[_].dtype for _ in df.columns]\n",
        "print(mode(z))\n",
        "\n",
        "\"\"\"\n",
        "В датасете'COVID-19 SSR.csv' в переменной 'Rating of Online Class experience' все значения записаны символами верхнего регистра (Например, \"GOOD\").\n",
        "Вам необходимо привести значения переменной 'Rating of Online Class experience' к значению \"GOOD\" с помощью функции title(). Например, df('Название переменной').str.title().\n",
        "В выдаче выведите пять первых значения переменной 'Rating of Online Class experience'.\n",
        "\"\"\"\n",
        "df['Rating of Online Class experience']=df['Rating of Online Class experience'].str.title()\n",
        "print(df['Rating of Online Class experience'].head(5))\n",
        "\n",
        "\"\"\"\n",
        "В нашем датасете есть переменная, указывающая на среднее количество сна в день ['Time spent on sleep'].\n",
        "Для здорового человека нормально спать 7-8 часов. Но учащиеся могут спать больше или меньше необходимого времени сна.\n",
        "То есть они могут спать например меньше 7 (6.9 часов) и больше 8 часов. Оптимальным количеством сна является 7-8 часов сна.\n",
        "Вам необходимо вывести количество учащихся, которые спят больше или меньше оптимального времени для сна.\n",
        "\"\"\"\n",
        "df = pd.read_csv('/content/COVID-19 Survey Student Responses.csv')\n",
        "w = df.query(\"not (`Time spent on sleep`> 6.9 and `Time spent on sleep`<9)\").shape[0]\n",
        "print(w)\n",
        "\n",
        "\"\"\"\n",
        "Мы обратим внимание на переменную 'Time spent on TV', которая содержит в себе не только числовые показатели, но и категориальные значения (object),\n",
        "такие как \"N\", \"n\", \"No tv\". Для анализа переменной необходимо изменить другие значения помимо числовых на \"0\". Далее после обработки датасета выведите тип переменной.\n",
        "\"\"\"\n",
        "df['Time spent on TV'] = pd.to_numeric(df['Time spent on TV'], errors='coerce')\n",
        "df['Time spent on TV'] = df['Time spent on TV'].fillna(0)\n",
        "print(df['Time spent on TV'].dtype)\n",
        "\n",
        "\"\"\"\n",
        "Взаимосвязано ли количество сна и время, проведенное в социальных сетях?\n",
        "Для ответа на данный вопрос мы будем работать с двумя переменными 'Time spent on sleep' и 'Time spent on social media'.\n",
        "Мы хотим выяснить связано ли недосыпание учащихся с временем, проведенным ими в социальных сетях.\n",
        "В начале перекодируйте переменные на бинарные категории: 'normal' и 'not normal'. Нормальное количество сна для людей – от 7 до 9 часов.\n",
        "Нормальное время, проведенное в сети – это меньше 2 часов в день. Перекодируйте переменные, а затем воспользуйтесь результатом Хи-теста и выведите результат Хи-квадрата.\n",
        "\"\"\"\n",
        "from scipy.stats import chi2_contingency\n",
        "df['Sleep'] = 'not normal'\n",
        "df.loc[(df['Time spent on sleep'] >=7), 'Sleep'] = 'normal'\n",
        "df['Media'] = 'not normal'\n",
        "df.loc[df['Time spent on social media'] < 2, 'Media'] = 'normal'\n",
        "\n",
        "contingency_table = pd.crosstab(df['Sleep'], df['Media'])\n",
        "chi2, p_value, dof, expected = chi2_contingency(contingency_table)\n",
        "\n",
        "print(chi2)\n",
        "print(p_value)\n",
        "\n",
        "\n",
        "\"\"\"\n",
        "Для удобной работы категориальные переменные перекодируют в числовые. В этой задаче мы будем работать с бинарной переменной 'Health issue during lockdown'.\n",
        "Перекодируйте значения переменной \"YES\" и \"NO\", на \"1\" и \"0\", соответственно.\n",
        "В выдаче выведите количество значений по данной переменной.\n",
        "\"\"\"\n",
        "df['Health issue during lockdown'] = (\n",
        "    df['Health issue during lockdown'].replace({'YES': 1, 'NO': 0}).astype(int)\n",
        "\n",
        ")\n",
        "print(df['Health issue during lockdown'].value_counts())\n",
        "\n",
        "\"\"\"\n",
        "В этой задаче вы будете работать с переменной 'Stress busters'. Выведите количество учащихся,\n",
        "которые используют книги в качестве профилактики борьбы со стрессом (встречаемость 'book' в значениях переменной).\n",
        "\"\"\"\n",
        "print(df['Stress busters'].str.contains('book', regex=False).sum())\n",
        "\n",
        "\"\"\"\n",
        "Определите наиболее популярную медиаплатформу в социальных сетях. (переменная 'Prefered social media platform')\n",
        "Отфильтруйте пользователей, которые используют эту платформу для социальной сети и вычислите, в среднем сколько времени в\n",
        "день проводят в социальных медиа (переменная 'Time spent on social media') пользователи, которые предпочитают популярную социальную платформу. Результат округлите до сотых.\n",
        "\"\"\"\n",
        "\n",
        "most_popular_media = mode(df['Prefered social media platform'])\n",
        "filt = df['Time spent on social media'].loc[df['Prefered social media platform']==most_popular_media].mean().round(2)\n",
        "print(filt)\n",
        "\n",
        "\"\"\"\n",
        "Определите платформу, в которой пользователи проводят больше всего времени в среднем.\n",
        "Результат выведите через пробел. В начале укажите название предпочитаемой социальной сети, а затем среднее количество времени,\n",
        "затрачиваемое на пользование социальными сетями через пробел. Результат округлите до сотых.\n",
        "\"\"\"\n",
        "mean_times = df.groupby('Prefered social media platform')['Time spent on social media'].mean()\n",
        "max_platform = mean_times.idxmax()\n",
        "max_time = mean_times.max()\n",
        "\n",
        "print(f\"{max_platform} {round(max_time, 2)}\")"
      ],
      "metadata": {
        "cellView": "form",
        "id": "tn1nPvGyT5qP"
      },
      "execution_count": null,
      "outputs": []
    },
    {
      "cell_type": "code",
      "source": [
        "#@title 4 Task\n",
        "import matplotlib.pyplot as plt\n",
        "\n",
        "df = pd.read_csv(\"/content/PokemonData.csv\")\n",
        "\"\"\"\n",
        "Давайте попробуем визуализировать диапазон атаки покемонов, чтобы узнать пропорции «сильных» и «слабых».\n",
        " А также понять, какова примерная мода значений. В используемой базе данных переменная именуется Attack.\n",
        "\"\"\"\n",
        "# plt.hist(df[\"Attack\"])\n",
        "# plt.show()\n",
        "\n",
        "\"\"\"\n",
        "Давайте теперь попробуем отразить две шкалы на одном графике. Посмотрим, насколько сильно отличается распределения обычной атаки покемона\n",
        "и его специальной атаки.\n",
        "Правда ли, что специальная атака мощнее обычной базовой атаки? Показатели специальной атаки записаны в переменной SpAtk.\n",
        "\"\"\"\n",
        "\n",
        "# plt.hist(df[\"Attack\"], alpha=0.5, label = 'Обычная атака')\n",
        "# plt.hist(df[\"SpAtk\"], alpha=0.5, label=\"Специальная атака\")\n",
        "# plt.xlabel('Мощность атаки')\n",
        "# plt.ylabel('Количество покемонов')\n",
        "# plt.legend()\n",
        "# plt.show()\n",
        "\n",
        "\"\"\"\n",
        "Взглянем на соотношение стандартной атаки и стандартной защиты покемонов. Правда ли, что чем покемон сильнее, тем больше его защита?\n",
        "Постройте точечную диаграмму, чтобы проверить это. Переменная с характеристикой атаки: 'Attack'. Переменная с характеристикой защиты: 'Defense'.\n",
        "\"\"\"\n",
        "# plt.scatter(df['Attack'], df['Defense'], alpha=0.3)\n",
        "# plt.show()\n",
        "\n",
        "\"\"\"\n",
        "Визуализируем частоту наблюдений по типам покемонов. Информация о типаже покемона заложена в переменной 'Type1'.\n",
        "Отразим частоту наблюдений по категориям с помощью столбчатой диаграммы.\n",
        "\"\"\"\n",
        "# df['Type1'].value_counts().plot(kind='bar')\n",
        "# plt.show()\n",
        "\n",
        "\"\"\"\n",
        "Давайте внутри функции plot() переименуем оси и добавим название, чтобы было понятно, о чем наша визуализация.\n",
        "За это отвечают параметры xlabel, ylabel, title. Пусть название оси Х будет \"Тип покемонов\", оси Y — \"Количество\",\n",
        "а название –\"Легендарные покемоны по типам в сравнении с обычными\".\n",
        "\"\"\"\n",
        "print(df.groupby('Legendary')['Type1'].value_counts().unstack(0).plot(\n",
        "    kind='bar', xlabel = 'Тип покемонов', ylabel = 'Количество', title = 'Легендарные покемоны по типам в сравнении с обычными'\n",
        "    ))"
      ],
      "metadata": {
        "colab": {
          "base_uri": "https://localhost:8080/",
          "height": 530
        },
        "id": "es_vF_DWUQzq",
        "outputId": "3dc51bf0-c023-4c2d-e653-b2ccbde1bb1c",
        "cellView": "form",
        "collapsed": true
      },
      "execution_count": null,
      "outputs": [
        {
          "output_type": "stream",
          "name": "stdout",
          "text": [
            "Axes(0.125,0.11;0.775x0.77)\n"
          ]
        },
        {
          "output_type": "display_data",
          "data": {
            "text/plain": [
              "<Figure size 640x480 with 1 Axes>"
            ],
            "image/png": "[encoded data removed]"
          },
          "metadata": {}
        }
      ]
    },
    {
      "cell_type": "code",
      "source": [
        "# @title 5 Task\n",
        "import pandas as pd\n",
        "from matplotlib import pyplot as plt\n",
        "from sklearn.preprocessing import scale\n",
        "from sklearn.decomposition import PCA\n",
        "# !pip install psynlig\n",
        "from psynlig import pca_scree\n",
        "\n",
        "df = pd.read_csv(\"/content/WVSW 6 2010-2014.csv\")\n",
        "data = scale(df)\n",
        "\n",
        "#Сколько вопросов попадают в первый фактор?\n",
        "pca = PCA()\n",
        "pca.fit_transform(data)\n",
        "pca_scree(pca, marker='o', markersize=16, lw=3)\n",
        "plt.show() #Ответ - кол - во точек, которые больше 1 по оси y. (4)\n",
        "\n",
        "\"\"\"\n",
        "В таблице факторных нагрузок, которая отражает корреляцию между фактором и переменной, все значения от 0.5 и выше мы будем считать достаточными для попадания в фактор.\n",
        "\"\"\"\n",
        "from factor_analyzer import FactorAnalyzer\n",
        "fa = FactorAnalyzer(n_factors=4,rotation='varimax')\n",
        "fa.fit(df)\n",
        "factor_df=pd.DataFrame(fa.loadings_,index = df.columns)\n",
        "factor_df = factor_df.rename(columns={0:'first', 1:'second', 2:'third', 3:'fourth'})\n",
        "print(factor_df)\n",
        "\n",
        "\"\"\"\n",
        "В таблице факторных нагрузок, которая отражает корреляцию между фактором и переменной, все значения от 0.5 и выше мы будем считать достаточными для попадания в фактор.\n",
        "Вам необходимо перечислить названия всех переменных, которые относятся к первому фактору.\n",
        "\"\"\"\n",
        "\n",
        "print(factor_df.query('first > 0.5').index.tolist())\n",
        "\n",
        "#А теперь вам нужно вывести названия переменных, у которых во всех столбцах значение меньше 0,5.\n",
        "sps = factor_df[(factor_df < 0.5).all(axis=1)].index.tolist()\n",
        "print(' '.join(sps))\n",
        "\n",
        "#Давайте изменим условие и определим, какие названия переменных при значении больше 0.4 относятся к двум факторам.\n",
        "mask = (factor_df > 0.4)\n",
        "rows_with_exactly_two = mask.sum(axis=1) == 2\n",
        "filtered_df = factor_df[rows_with_exactly_two]\n",
        "print(filtered_df.index.tolist())"
      ],
      "metadata": {
        "id": "C9pMnlHpYm9r",
        "colab": {
          "base_uri": "https://localhost:8080/",
          "height": 890
        },
        "cellView": "form",
        "outputId": "d5f23a4c-b5e6-4b8e-c028-3c1c6b4e25a5"
      },
      "execution_count": 35,
      "outputs": [
        {
          "output_type": "display_data",
          "data": {
            "text/plain": [
              "<Figure size 640x480 with 1 Axes>"
            ],
            "image/png": "[encoded data removed]"
          },
          "metadata": {}
        },
        {
          "output_type": "stream",
          "name": "stderr",
          "text": [
            "/usr/local/lib/python3.11/dist-packages/sklearn/utils/deprecation.py:151: FutureWarning: 'force_all_finite' was renamed to 'ensure_all_finite' in 1.6 and will be removed in 1.8.\n",
            "  warnings.warn(\n"
          ]
        },
        {
          "output_type": "stream",
          "name": "stdout",
          "text": [
            "         first    second     third    fourth\n",
            "V108  0.220949  0.227508  0.125863  0.276780\n",
            "V109  0.147345  0.354425  0.091936  0.297278\n",
            "V110  0.234577  0.231798  0.178381  0.739146\n",
            "V111  0.195620  0.258944  0.171618  0.730537\n",
            "V112  0.276735  0.171220  0.565347  0.210604\n",
            "V113  0.189254  0.640520  0.193780  0.244847\n",
            "V114  0.250646  0.679081  0.213182  0.203260\n",
            "V115  0.229086  0.589156  0.340337  0.214478\n",
            "V116  0.120432  0.263889  0.906908  0.127442\n",
            "V117  0.306237  0.486868  0.409409  0.213911\n",
            "V118  0.312803  0.383849  0.479410  0.185986\n",
            "V119  0.550071  0.298363  0.130487  0.193020\n",
            "V120  0.610771  0.265979  0.150999  0.197733\n",
            "V121  0.530750  0.311098  0.128284  0.240175\n",
            "V122  0.750848  0.123382  0.179472  0.129423\n",
            "V123  0.691752  0.105002  0.165271  0.127352\n",
            "['V119', 'V120', 'V121', 'V122', 'V123']\n",
            "V108 V109 V117 V118\n",
            "['V117']\n"
          ]
        }
      ]
    },
    {
      "cell_type": "code",
      "source": [],
      "metadata": {
        "id": "x2b0WfYQECst"
      },
      "execution_count": null,
      "outputs": []
    }
  ]
}