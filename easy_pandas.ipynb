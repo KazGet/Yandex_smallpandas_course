{
  "nbformat": 4,
  "nbformat_minor": 0,
  "metadata": {
    "colab": {
      "provenance": [],
      "authorship_tag": "ABX9TyOPK2tCdFw+XjQ0YwJJdbW9",
      "include_colab_link": true
    },
    "kernelspec": {
      "name": "python3",
      "display_name": "Python 3"
    },
    "language_info": {
      "name": "python"
    }
  },
  "cells": [
    {
      "cell_type": "markdown",
      "metadata": {
        "id": "view-in-github",
        "colab_type": "text"
      },
      "source": [
        "<a href=\"https://colab.research.google.com/github/KazGet/Yandex_smallpandas_course/blob/main/easy_pandas.ipynb\" target=\"_parent\"><img src=\"https://colab.research.google.com/assets/colab-badge.svg\" alt=\"Open In Colab\"/></a>"
      ]
    },
    {
      "cell_type": "code",
      "source": [
        "import pandas as pd"
      ],
      "metadata": {
        "id": "QQWRkMOhUH1p"
      },
      "execution_count": 118,
      "outputs": []
    },
    {
      "cell_type": "code",
      "execution_count": null,
      "metadata": {
        "id": "btAWnRIhv_IZ",
        "cellView": "form"
      },
      "outputs": [],
      "source": [
        "# @title 1 Task\n",
        "\"\"\"\n",
        "1. Всемирный доклад ООН о счастье содержит данные об опросе людей в разных странах, в котором они оценивают свой общий уровень счастья, а также уровне удовлетворения\n",
        "в отдельных аспектах. В рамках сбора данных для репрезентативных национальных выборок респондентов просят ответить на ряд вопросов по шкале от нуля до десяти,\n",
        "где десять — это лучшая из возможных жизней, а ноль — худшая. Ответы отдельных респондентов усредняются для получения общего для страны показателя.\n",
        "Попробуем исследовать данные за 2019 год, чтобы лучше понять их структуру.\n",
        "\n",
        "а) Какое максимальное и минимальное значение индекса счастья в 2019 году?\n",
        "б) Какой средний уровень счастья среди всех стран?\n",
        "в) Каков медианный уровень счастья среди всех стран?\n",
        "г) Какова мода среди всех стран?\n",
        "д) Каково стандартное отклонение среди всех стран?\n",
        "е) Найдите десять самых счастливых стран.\n",
        "ж) Подсчитайте суммарный ВВП всех стран.\n",
        "з) Подсчитайте суммарный ВВП первых десяти стран.\n",
        "\"\"\"\n",
        "pd.set_option(\"display.max_columns\", 10)\n",
        "df = pd.read_csv(\"2019.csv\")\n",
        "print(df[\"Score\"].max())\n",
        "print(df[\"Score\"].min())\n",
        "print(df[\"Score\"].mean())\n",
        "print(df[\"Score\"].median())\n",
        "print(df['Score'].mode()[0])\n",
        "print(df['Score'].std())\n",
        "df_sort = df.sort_values(by=\"Score\", ascending=False)\n",
        "df_top10_country = df_sort.head(10)[\"Country or region\"].tolist()\n",
        "print(df_top10_country)\n",
        "print(df['GDP per capita'].sum())\n",
        "print(df['GDP per capita'][0:10].sum())"
      ]
    },
    {
      "cell_type": "code",
      "source": [
        "# @title 2 Task\n",
        "file = \"/content/books_prep.csv\"\n",
        "df = pd.read_csv(file)\n",
        "\n",
        "###Выведите имя самого популярного писателя в наборе данных\n",
        "print(df['Author'].describe()['top'])\n",
        "\n",
        "###Определите средние значения рейтинга для «дешёвых» и «дорогих» книг. Вам необходимо загрузить набор данных и напечатать средний рейтинг для «дорогих» книг.\n",
        "\n",
        "AA = df[df['Price (Above Average)'] == 'Yes']\n",
        "High = AA['User Rating'].mean()\n",
        "print(round(High, 2))\n",
        "\n",
        "###Проведите тест для определения равенства дисперсий. Выведите значение p-value.\n",
        "from scipy.stats import levene\n",
        "AA = df[df['Price (Above Average)'] == 'Yes']\n",
        "High = AA['User Rating']\n",
        "BB = df[df['Price (Above Average)'] == 'No']\n",
        "Low = BB['User Rating']\n",
        "print(levene(High, Low).pvalue.round(2))\n",
        "\n",
        "###Проведите тест для определения равенства средних. Выведите значение p-value\n",
        "from scipy.stats import ttest_ind, f_oneway\n",
        "print(ttest_ind(High, Low).pvalue.round(2))\n",
        "\n",
        "###Проведите тест ANOVA. Выведите значение p-value\n",
        "groups = df.groupby(\"User Rating (Round)\")[\"Reviews\"].apply(list)\n",
        "\n",
        "anova_result = f_oneway(*groups)\n",
        "print(round(anova_result.pvalue, 2))"
      ],
      "metadata": {
        "id": "QqoXOoMX0x6-",
        "cellView": "form"
      },
      "execution_count": null,
      "outputs": []
    },
    {
      "cell_type": "markdown",
      "source": [
        "Тест Левена (равенство дисперсий)\n",
        "p-value = 0.1\n",
        "\n",
        "Так как p > 0.05, нет оснований отвергать гипотезу о равенстве дисперсий.\n",
        "\n",
        "Значит, разброс оценок среди дорогих и дешёвых книг примерно одинаков.\n",
        "\n",
        "\n",
        "\n",
        "t-тест (равенство средних значений рейтинга)\n",
        "p-value = 0.0\n",
        "\n",
        "Это меньше 0.05, значит различия между средними рейтингами статистически значимы.\n",
        "\n",
        "Другими словами, стоимость книги влияет на её рейтинг.\n",
        "\n",
        "\n",
        "\n",
        "ANOVA (влияние рейтинга на число рецензий)\n",
        "p-value = 0.3\n",
        "\n",
        "Значение больше 0.05, гипотеза о равенстве средних числа рецензий в разных группах рейтинга не отвергается.\n",
        "\n",
        "Это означает, что число рецензий не зависит от округлённого рейтинга книги."
      ],
      "metadata": {
        "id": "fd4ebElgFRoi"
      }
    },
    {
      "cell_type": "code",
      "source": [
        "# @title 3 Task\n",
        "from statistics import mode\n",
        "df =pd.read_csv(\"/content/COVID-19 SSR.csv\")\n",
        "\"\"\"\n",
        "В датасете содержатся такие переменные как время на занятия, самостоятельное обучение, просмотр страниц в социальных сетях в день, а также\n",
        "соц-демографические характеристики учащихся (возраст, регион проживания) и другие.\n",
        "Вам необходимо вывести наиболее частый тип переменных встречаемый в датасете.\n",
        "\"\"\"\n",
        "z=[df[_].dtype for _ in df.columns]\n",
        "print(mode(z))\n",
        "\n",
        "\"\"\"\n",
        "В датасете'COVID-19 SSR.csv' в переменной 'Rating of Online Class experience' все значения записаны символами верхнего регистра (Например, \"GOOD\").\n",
        "Вам необходимо привести значения переменной 'Rating of Online Class experience' к значению \"GOOD\" с помощью функции title(). Например, df('Название переменной').str.title().\n",
        "В выдаче выведите пять первых значения переменной 'Rating of Online Class experience'.\n",
        "\"\"\"\n",
        "df['Rating of Online Class experience']=df['Rating of Online Class experience'].str.title()\n",
        "print(df['Rating of Online Class experience'].head(5))\n",
        "\n",
        "\"\"\"\n",
        "В нашем датасете есть переменная, указывающая на среднее количество сна в день ['Time spent on sleep'].\n",
        "Для здорового человека нормально спать 7-8 часов. Но учащиеся могут спать больше или меньше необходимого времени сна.\n",
        "То есть они могут спать например меньше 7 (6.9 часов) и больше 8 часов. Оптимальным количеством сна является 7-8 часов сна.\n",
        "Вам необходимо вывести количество учащихся, которые спят больше или меньше оптимального времени для сна.\n",
        "\"\"\"\n",
        "df = pd.read_csv('/content/COVID-19 Survey Student Responses.csv')\n",
        "w = df.query(\"not (`Time spent on sleep`> 6.9 and `Time spent on sleep`<9)\").shape[0]\n",
        "print(w)\n",
        "\n",
        "\"\"\"\n",
        "Мы обратим внимание на переменную 'Time spent on TV', которая содержит в себе не только числовые показатели, но и категориальные значения (object),\n",
        "такие как \"N\", \"n\", \"No tv\". Для анализа переменной необходимо изменить другие значения помимо числовых на \"0\". Далее после обработки датасета выведите тип переменной.\n",
        "\"\"\"\n",
        "df['Time spent on TV'] = pd.to_numeric(df['Time spent on TV'], errors='coerce')\n",
        "df['Time spent on TV'] = df['Time spent on TV'].fillna(0)\n",
        "print(df['Time spent on TV'].dtype)\n",
        "\n",
        "\"\"\"\n",
        "Взаимосвязано ли количество сна и время, проведенное в социальных сетях?\n",
        "Для ответа на данный вопрос мы будем работать с двумя переменными 'Time spent on sleep' и 'Time spent on social media'.\n",
        "Мы хотим выяснить связано ли недосыпание учащихся с временем, проведенным ими в социальных сетях.\n",
        "В начале перекодируйте переменные на бинарные категории: 'normal' и 'not normal'. Нормальное количество сна для людей – от 7 до 9 часов.\n",
        "Нормальное время, проведенное в сети – это меньше 2 часов в день. Перекодируйте переменные, а затем воспользуйтесь результатом Хи-теста и выведите результат Хи-квадрата.\n",
        "\"\"\"\n",
        "from scipy.stats import chi2_contingency\n",
        "df['Sleep'] = 'not normal'\n",
        "df.loc[(df['Time spent on sleep'] >=7), 'Sleep'] = 'normal'\n",
        "df['Media'] = 'not normal'\n",
        "df.loc[df['Time spent on social media'] < 2, 'Media'] = 'normal'\n",
        "\n",
        "contingency_table = pd.crosstab(df['Sleep'], df['Media'])\n",
        "chi2, p_value, dof, expected = chi2_contingency(contingency_table)\n",
        "\n",
        "print(chi2)\n",
        "print(p_value)\n",
        "\n",
        "\n",
        "\"\"\"\n",
        "Для удобной работы категориальные переменные перекодируют в числовые. В этой задаче мы будем работать с бинарной переменной 'Health issue during lockdown'.\n",
        "Перекодируйте значения переменной \"YES\" и \"NO\", на \"1\" и \"0\", соответственно.\n",
        "В выдаче выведите количество значений по данной переменной.\n",
        "\"\"\"\n",
        "df['Health issue during lockdown'] = (\n",
        "    df['Health issue during lockdown'].replace({'YES': 1, 'NO': 0}).astype(int)\n",
        "\n",
        ")\n",
        "print(df['Health issue during lockdown'].value_counts())\n",
        "\n",
        "\"\"\"\n",
        "В этой задаче вы будете работать с переменной 'Stress busters'. Выведите количество учащихся,\n",
        "которые используют книги в качестве профилактики борьбы со стрессом (встречаемость 'book' в значениях переменной).\n",
        "\"\"\"\n",
        "print(df['Stress busters'].str.contains('book', regex=False).sum())\n",
        "\n",
        "\"\"\"\n",
        "Определите наиболее популярную медиаплатформу в социальных сетях. (переменная 'Prefered social media platform')\n",
        "Отфильтруйте пользователей, которые используют эту платформу для социальной сети и вычислите, в среднем сколько времени в\n",
        "день проводят в социальных медиа (переменная 'Time spent on social media') пользователи, которые предпочитают популярную социальную платформу. Результат округлите до сотых.\n",
        "\"\"\"\n",
        "\n",
        "most_popular_media = mode(df['Prefered social media platform'])\n",
        "filt = df['Time spent on social media'].loc[df['Prefered social media platform']==most_popular_media].mean().round(2)\n",
        "print(filt)\n",
        "\n",
        "\"\"\"\n",
        "Определите платформу, в которой пользователи проводят больше всего времени в среднем.\n",
        "Результат выведите через пробел. В начале укажите название предпочитаемой социальной сети, а затем среднее количество времени,\n",
        "затрачиваемое на пользование социальными сетями через пробел. Результат округлите до сотых.\n",
        "\"\"\"\n",
        "mean_times = df.groupby('Prefered social media platform')['Time spent on social media'].mean()\n",
        "max_platform = mean_times.idxmax()\n",
        "max_time = mean_times.max()\n",
        "\n",
        "print(f\"{max_platform} {round(max_time, 2)}\")"
      ],
      "metadata": {
        "cellView": "form",
        "id": "tn1nPvGyT5qP"
      },
      "execution_count": null,
      "outputs": []
    },
    {
      "cell_type": "code",
      "source": [
        "#@title 4 Task\n",
        "import matplotlib.pyplot as plt\n",
        "\n",
        "df = pd.read_csv(\"/content/PokemonData.csv\")\n",
        "\"\"\"\n",
        "Давайте попробуем визуализировать диапазон атаки покемонов, чтобы узнать пропорции «сильных» и «слабых».\n",
        " А также понять, какова примерная мода значений. В используемой базе данных переменная именуется Attack.\n",
        "\"\"\"\n",
        "# plt.hist(df[\"Attack\"])\n",
        "# plt.show()\n",
        "\n",
        "\"\"\"\n",
        "Давайте теперь попробуем отразить две шкалы на одном графике. Посмотрим, насколько сильно отличается распределения обычной атаки покемона\n",
        "и его специальной атаки.\n",
        "Правда ли, что специальная атака мощнее обычной базовой атаки? Показатели специальной атаки записаны в переменной SpAtk.\n",
        "\"\"\"\n",
        "\n",
        "# plt.hist(df[\"Attack\"], alpha=0.5, label = 'Обычная атака')\n",
        "# plt.hist(df[\"SpAtk\"], alpha=0.5, label=\"Специальная атака\")\n",
        "# plt.xlabel('Мощность атаки')\n",
        "# plt.ylabel('Количество покемонов')\n",
        "# plt.legend()\n",
        "# plt.show()\n",
        "\n",
        "\"\"\"\n",
        "Взглянем на соотношение стандартной атаки и стандартной защиты покемонов. Правда ли, что чем покемон сильнее, тем больше его защита?\n",
        "Постройте точечную диаграмму, чтобы проверить это. Переменная с характеристикой атаки: 'Attack'. Переменная с характеристикой защиты: 'Defense'.\n",
        "\"\"\"\n",
        "# plt.scatter(df['Attack'], df['Defense'], alpha=0.3)\n",
        "# plt.show()\n",
        "\n",
        "\"\"\"\n",
        "Визуализируем частоту наблюдений по типам покемонов. Информация о типаже покемона заложена в переменной 'Type1'.\n",
        "Отразим частоту наблюдений по категориям с помощью столбчатой диаграммы.\n",
        "\"\"\"\n",
        "# df['Type1'].value_counts().plot(kind='bar')\n",
        "# plt.show()\n",
        "\n",
        "\"\"\"\n",
        "Давайте внутри функции plot() переименуем оси и добавим название, чтобы было понятно, о чем наша визуализация.\n",
        "За это отвечают параметры xlabel, ylabel, title. Пусть название оси Х будет \"Тип покемонов\", оси Y — \"Количество\",\n",
        "а название –\"Легендарные покемоны по типам в сравнении с обычными\".\n",
        "\"\"\"\n",
        "print(df.groupby('Legendary')['Type1'].value_counts().unstack(0).plot(\n",
        "    kind='bar', xlabel = 'Тип покемонов', ylabel = 'Количество', title = 'Легендарные покемоны по типам в сравнении с обычными'\n",
        "    ))"
      ],
      "metadata": {
        "colab": {
          "base_uri": "https://localhost:8080/",
          "height": 530
        },
        "id": "es_vF_DWUQzq",
        "outputId": "3dc51bf0-c023-4c2d-e653-b2ccbde1bb1c"
      },
      "execution_count": 135,
      "outputs": [
        {
          "output_type": "stream",
          "name": "stdout",
          "text": [
            "Axes(0.125,0.11;0.775x0.77)\n"
          ]
        },
        {
          "output_type": "display_data",
          "data": {
            "text/plain": [
              "<Figure size 640x480 with 1 Axes>"
            ],
            "image/png": "[encoded data removed]"
          },
          "metadata": {}
        }
      ]
    },
    {
      "cell_type": "code",
      "source": [],
      "metadata": {
        "id": "C9pMnlHpYm9r"
      },
      "execution_count": null,
      "outputs": []
    }
  ]
}