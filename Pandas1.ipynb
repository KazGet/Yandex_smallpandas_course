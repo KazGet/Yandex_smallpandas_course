{
  "nbformat": 4,
  "nbformat_minor": 0,
  "metadata": {
    "colab": {
      "provenance": [],
      "authorship_tag": "ABX9TyN7gG4B7QZPNYRNSVBqHM9H",
      "include_colab_link": true
    },
    "kernelspec": {
      "name": "python3",
      "display_name": "Python 3"
    },
    "language_info": {
      "name": "python"
    }
  },
  "cells": [
    {
      "cell_type": "markdown",
      "metadata": {
        "id": "view-in-github",
        "colab_type": "text"
      },
      "source": [
        "<a href=\"https://colab.research.google.com/github/KazGet/Yandex_smallpandas_course/blob/main/Pandas1.ipynb\" target=\"_parent\"><img src=\"https://colab.research.google.com/assets/colab-badge.svg\" alt=\"Open In Colab\"/></a>"
      ]
    },
    {
      "cell_type": "code",
      "execution_count": null,
      "metadata": {
        "id": "btAWnRIhv_IZ",
        "colab": {
          "base_uri": "https://localhost:8080/"
        },
        "outputId": "2b720310-bb63-4143-ff6f-8b16663071ed"
      },
      "outputs": [
        {
          "output_type": "stream",
          "name": "stdout",
          "text": [
            "7.769\n",
            "2.853\n",
            "5.407096153846155\n",
            "5.3795\n",
            "5.208\n",
            "1.1131198687956712\n",
            "['Finland', 'Denmark', 'Norway', 'Iceland', 'Netherlands', 'Switzerland', 'Sweden', 'New Zealand', 'Canada', 'Austria']\n",
            "141.203\n",
            "13.87\n"
          ]
        }
      ],
      "source": [
        "# @title 1 Task\n",
        "import pandas as pd\n",
        "pd.set_option(\"display.max_columns\", 10)\n",
        "df = pd.read_csv(\"2019.csv\")\n",
        "print(df[\"Score\"].max())\n",
        "print(df[\"Score\"].min())\n",
        "print(df[\"Score\"].mean())\n",
        "print(df[\"Score\"].median())\n",
        "print(df['Score'].mode()[0])\n",
        "print(df['Score'].std())\n",
        "df_sort = df.sort_values(by=\"Score\", ascending=False)\n",
        "df_top10_country = df_sort.head(10)[\"Country or region\"].tolist()\n",
        "print(df_top10_country)\n",
        "print(df['GDP per capita'].sum())\n",
        "print(df['GDP per capita'][0:10].sum())"
      ]
    },
    {
      "cell_type": "code",
      "source": [
        "# @title 2 Task\n",
        "file = \"/content/books_prep.csv\"\n",
        "df = pd.read_csv(file)\n",
        "\n",
        "###Выведите имя самого популярного писателя в наборе данных\n",
        "print(df['Author'].describe()['top'])\n",
        "\n",
        "###Определите средние значения рейтинга для «дешёвых» и «дорогих» книг. Вам необходимо загрузить набор данных и напечатать средний рейтинг для «дорогих» книг.\n",
        "\n",
        "AA = df[df['Price (Above Average)'] == 'Yes']\n",
        "High = AA['User Rating'].mean()\n",
        "print(round(High, 2))\n",
        "\n",
        "###Проведите тест для определения равенства дисперсий. Выведите значение p-value.\n",
        "from scipy.stats import levene\n",
        "AA = df[df['Price (Above Average)'] == 'Yes']\n",
        "High = AA['User Rating']\n",
        "BB = df[df['Price (Above Average)'] == 'No']\n",
        "Low = BB['User Rating']\n",
        "print(levene(High, Low).pvalue.round(2))\n",
        "\n",
        "###Проведите тест для определения равенства средних. Выведите значение p-value\n",
        "from scipy.stats import ttest_ind, f_oneway\n",
        "print(ttest_ind(High, Low).pvalue.round(2))\n",
        "\n",
        "###Проведите тест ANOVA. Выведите значение p-value\n",
        "groups = df.groupby(\"User Rating (Round)\")[\"Reviews\"].apply(list)\n",
        "\n",
        "anova_result = f_oneway(*groups)\n",
        "print(round(anova_result.pvalue, 2))"
      ],
      "metadata": {
        "id": "QqoXOoMX0x6-",
        "colab": {
          "base_uri": "https://localhost:8080/"
        },
        "outputId": "8f1e7684-4f11-4545-ef69-1fef62479c65"
      },
      "execution_count": null,
      "outputs": [
        {
          "output_type": "stream",
          "name": "stdout",
          "text": [
            "Jeff Kinney\n",
            "4.56\n",
            "0.1\n",
            "0.0\n",
            "0.3\n"
          ]
        }
      ]
    },
    {
      "cell_type": "markdown",
      "source": [
        "Тест Левена (равенство дисперсий)\n",
        "p-value = 0.1\n",
        "\n",
        "Так как p > 0.05, нет оснований отвергать гипотезу о равенстве дисперсий.\n",
        "\n",
        "Значит, разброс оценок среди дорогих и дешёвых книг примерно одинаков.\n",
        "\n",
        "\n",
        "\n",
        "t-тест (равенство средних значений рейтинга)\n",
        "p-value = 0.0\n",
        "\n",
        "Это меньше 0.05, значит различия между средними рейтингами статистически значимы.\n",
        "\n",
        "Другими словами, стоимость книги влияет на её рейтинг.\n",
        "\n",
        "\n",
        "\n",
        "ANOVA (влияние рейтинга на число рецензий)\n",
        "p-value = 0.3\n",
        "\n",
        "Значение больше 0.05, гипотеза о равенстве средних числа рецензий в разных группах рейтинга не отвергается.\n",
        "\n",
        "Это означает, что число рецензий не зависит от округлённого рейтинга книги."
      ],
      "metadata": {
        "id": "fd4ebElgFRoi"
      }
    }
  ]
}